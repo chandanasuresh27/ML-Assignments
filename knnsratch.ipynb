{
 "cells": [
  {
   "cell_type": "code",
   "execution_count": null,
   "metadata": {},
   "outputs": [
    {
     "name": "stdout",
     "output_type": "stream",
     "text": [
      "Enter the data points\n"
     ]
    }
   ],
   "source": [
    "import numpy as np\n",
    "\n",
    "from math import sqrt\n",
    "\n",
    "class_a = np.array([[1,2],[2,3],[4,5]])\n",
    "\n",
    "class_b = np.array([[78,90],[90,67],[77,88]])\n",
    "\n",
    "print(\"Enter the data points\")\n",
    "\n",
    "c = int(input())\n",
    "\n",
    "d = int(input())\n",
    "\n",
    "dist = 0\n",
    "\n",
    "list_a = []\n",
    "\n",
    "list_b = []\n",
    "\n",
    "for i in range(0,len(class_a)):\n",
    "\n",
    "    j=0\n",
    "\n",
    "    a = sqrt((class_a[i,j]-c)**2 + (class_a[i,j+1]-d)**2)\n",
    "\n",
    "    list_a.append(a)\n",
    "\n",
    "    b = sqrt((class_b[i,j]-c)**2 + (class_b[i,j+1]-d)**2)\n",
    "\n",
    "    list_b.append(b)\n",
    "\n",
    "print(list_a)\n",
    "\n",
    "print(list_b)\n",
    "\n",
    "list_c = list_a\n",
    "\n",
    "list_c.extend(list_b)\n",
    "\n",
    "list_c.sort()\n",
    "\n",
    "print(list_c)\n",
    "\n",
    "print(\"Enter the value of k\")\n",
    "\n",
    "k = int(input())\n",
    "\n",
    "a1 = 0\n",
    "\n",
    "b1 = 0\n",
    "\n",
    "for m in range(0,k-1):\n",
    "\n",
    "    for n in range(0,len(list_a)-1):\n",
    "\n",
    "        if(list_a[n] == list_c[m]):\n",
    "\n",
    "            a1 = a1 + 1\n",
    "\n",
    "    for p in range(0,len(list_b)-1):\n",
    "\n",
    "        if(list_b[p] == list_c[m]):\n",
    "\n",
    "            b1 = b1 + 1\n",
    "\n",
    "\n",
    "\n",
    "if(a1>b1):\n",
    "\n",
    "    print(\"The point belongs to cluster1\")\n",
    "\n",
    "elif(b1>a1):\n",
    "\n",
    "    print(\"The point belongs to cluster2\")"
   ]
  },
  {
   "cell_type": "code",
   "execution_count": null,
   "metadata": {},
   "outputs": [],
   "source": []
  }
 ],
 "metadata": {
  "kernelspec": {
   "display_name": "Python 3",
   "language": "python",
   "name": "python3"
  },
  "language_info": {
   "codemirror_mode": {
    "name": "ipython",
    "version": 3
   },
   "file_extension": ".py",
   "mimetype": "text/x-python",
   "name": "python",
   "nbconvert_exporter": "python",
   "pygments_lexer": "ipython3",
   "version": "3.7.1"
  }
 },
 "nbformat": 4,
 "nbformat_minor": 2
}
